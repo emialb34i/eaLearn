{
 "cells": [
  {
   "cell_type": "code",
   "execution_count": 15,
   "id": "537cb5f8",
   "metadata": {},
   "outputs": [],
   "source": [
    "import numpy as np\n",
    "import matplotlib.pyplot as plt\n",
    "\n",
    "from sklearn.datasets import load_boston\n",
    "from sklearn.linear_model import LinearRegression as LinearRegressionSK\n",
    "from sklearn.preprocessing import StandardScaler\n",
    "\n",
    "import sys\n",
    "sys.path.insert(0, '/Users/emilioalberini/Desktop/eaLearn')\n",
    "\n",
    "from eaLearn import LinearRegression, Lasso , Ridge, ElasticNet"
   ]
  },
  {
   "cell_type": "markdown",
   "id": "78b5cf7f",
   "metadata": {},
   "source": [
    "# Gradient Descent"
   ]
  },
  {
   "cell_type": "code",
   "execution_count": 2,
   "id": "6c71a827",
   "metadata": {},
   "outputs": [],
   "source": [
    "def f(x):\n",
    "    return x**2"
   ]
  },
  {
   "cell_type": "code",
   "execution_count": 3,
   "id": "78bced0b",
   "metadata": {},
   "outputs": [],
   "source": [
    "def f_grad(x):\n",
    "    return 2*x"
   ]
  },
  {
   "cell_type": "code",
   "execution_count": 4,
   "id": "d0285c17",
   "metadata": {},
   "outputs": [],
   "source": [
    "x = np.linspace(-2,2,100)"
   ]
  },
  {
   "cell_type": "code",
   "execution_count": 5,
   "id": "a1c3a748",
   "metadata": {},
   "outputs": [
    {
     "data": {
      "text/plain": [
       "Text(0.5, 1.0, 'Cost Function')"
      ]
     },
     "execution_count": 5,
     "metadata": {},
     "output_type": "execute_result"
    },
    {
     "data": {
      "image/png": "[encoded data removed]",
      "text/plain": [
       "<Figure size 432x288 with 1 Axes>"
      ]
     },
     "metadata": {
      "needs_background": "light"
     },
     "output_type": "display_data"
    }
   ],
   "source": [
    "plt.plot(x, f(x))\n",
    "plt.title(\"Cost Function\")"
   ]
  },
  {
   "cell_type": "code",
   "execution_count": 6,
   "id": "0697161f",
   "metadata": {},
   "outputs": [],
   "source": [
    "# init = np.random.rand()*4 - 2\n",
    "init = 1.5"
   ]
  },
  {
   "cell_type": "code",
   "execution_count": 7,
   "id": "dc92657f",
   "metadata": {},
   "outputs": [
    {
     "data": {
      "text/plain": [
       "2.25"
      ]
     },
     "execution_count": 7,
     "metadata": {},
     "output_type": "execute_result"
    }
   ],
   "source": [
    "f(init)"
   ]
  },
  {
   "cell_type": "code",
   "execution_count": 8,
   "id": "f7fe46fb",
   "metadata": {},
   "outputs": [],
   "source": [
    "# learning rate + iterations\n",
    "alpha = 0.00001\n",
    "n_iter = 100"
   ]
  },
  {
   "cell_type": "code",
   "execution_count": 9,
   "id": "f289d592",
   "metadata": {},
   "outputs": [],
   "source": [
    "training_errors = []\n",
    "cord = []\n",
    "for _ in range(n_iter):\n",
    "    error = f(init)\n",
    "    cord.append(init)\n",
    "    training_errors.append(error)\n",
    "    init = init - alpha*f_grad(init)"
   ]
  },
  {
   "cell_type": "code",
   "execution_count": 10,
   "id": "101bf6bf",
   "metadata": {},
   "outputs": [
    {
     "data": {
      "text/plain": [
       "<matplotlib.collections.PathCollection at 0x7fb3d83921c0>"
      ]
     },
     "execution_count": 10,
     "metadata": {},
     "output_type": "execute_result"
    },
    {
     "data": {
      "image/png": "[encoded data removed]",
      "text/plain": [
       "<Figure size 432x288 with 1 Axes>"
      ]
     },
     "metadata": {
      "needs_background": "light"
     },
     "output_type": "display_data"
    }
   ],
   "source": [
    "plt.plot(x, f(x))\n",
    "plt.scatter(cord, training_errors, c='red')"
   ]
  },
  {
   "cell_type": "markdown",
   "id": "35ed2449",
   "metadata": {},
   "source": [
    "# Gradient Descent on Real Data"
   ]
  },
  {
   "cell_type": "code",
   "execution_count": 11,
   "id": "be0307bc",
   "metadata": {},
   "outputs": [],
   "source": [
    "X, y = load_boston(return_X_y=True)"
   ]
  },
  {
   "cell_type": "code",
   "execution_count": 12,
   "id": "0551baa6",
   "metadata": {},
   "outputs": [],
   "source": [
    "from sklearn.preprocessing import StandardScaler\n",
    "\n",
    "Scale = StandardScaler()\n",
    "boston = Scale.fit_transform(X)"
   ]
  },
  {
   "cell_type": "code",
   "execution_count": 16,
   "id": "4f672e33",
   "metadata": {},
   "outputs": [],
   "source": [
    "reg = LinearRegressionSK().fit(boston, y)"
   ]
  },
  {
   "cell_type": "code",
   "execution_count": 17,
   "id": "01c72622",
   "metadata": {},
   "outputs": [
    {
     "name": "stdout",
     "output_type": "stream",
     "text": [
      "Linear Regression Results\n",
      "\n",
      "w0: 22.532806324110684\n",
      "w1: -0.9281460643012006\n",
      "w2: 1.0815686278223722\n",
      "w3: 0.14089999690428306\n",
      "w4: 0.6817397247777968\n",
      "w5: -2.05671826600522\n",
      "w6: 2.6742301652393214\n",
      "w7: 0.01946607165704488\n",
      "w8: -3.1040442580864447\n",
      "w9: 2.662217642473626\n",
      "w10: -2.0767816838433775\n",
      "w11: -2.0606066589067615\n",
      "w12: 0.8492684177053306\n",
      "w13: -3.7436271264671097\n"
     ]
    }
   ],
   "source": [
    "print(\"Linear Regression Results\")\n",
    "print()\n",
    "print(f\"w0: {reg.intercept_}\")\n",
    "for i in range(len(reg.coef_)):\n",
    "    print(f\"w{i+1}: {reg.coef_[i]}\")"
   ]
  },
  {
   "cell_type": "code",
   "execution_count": 18,
   "id": "a2c3c26f",
   "metadata": {},
   "outputs": [],
   "source": [
    "reg2 = LinearRegression()\n",
    "reg2.fit(boston, y)"
   ]
  },
  {
   "cell_type": "code",
   "execution_count": null,
   "id": "0c9398f8",
   "metadata": {},
   "outputs": [],
   "source": [
    "# print(\"Gradient Descent Results\")\n",
    "# print()\n",
    "# for i in range(len(reg2.w)):\n",
    "#     print(f\"w{i}: {reg2.w[i]}\")"
   ]
  },
  {
   "cell_type": "code",
   "execution_count": 22,
   "id": "5b3680ad",
   "metadata": {},
   "outputs": [
    {
     "name": "stdout",
     "output_type": "stream",
     "text": [
      "Linear Regression Results\n",
      "\n",
      "w0: 22.53280632411068\n",
      "w1: -0.9281460643012067\n",
      "w2: 1.0815686278223762\n",
      "w3: 0.1408999969042366\n",
      "w4: 0.681739724777799\n",
      "w5: -2.056718266005234\n",
      "w6: 2.6742301652392904\n",
      "w7: 0.01946607165706382\n",
      "w8: -3.1040442580864616\n",
      "w9: 2.6622176424736637\n",
      "w10: -2.0767816838433752\n",
      "w11: -2.060606658906801\n",
      "w12: 0.8492684177053378\n",
      "w13: -3.743627126467125\n"
     ]
    }
   ],
   "source": [
    "print(\"Linear Regression Results\")\n",
    "print()\n",
    "for i in range(len(reg2.w)):\n",
    "    print(f\"w{i}: {reg2.w[i]}\")"
   ]
  },
  {
   "cell_type": "code",
   "execution_count": null,
   "id": "6da3d647",
   "metadata": {},
   "outputs": [],
   "source": []
  }
 ],
 "metadata": {
  "kernelspec": {
   "display_name": "Python 3",
   "language": "python",
   "name": "python3"
  },
  "language_info": {
   "codemirror_mode": {
    "name": "ipython",
    "version": 3
   },
   "file_extension": ".py",
   "mimetype": "text/x-python",
   "name": "python",
   "nbconvert_exporter": "python",
   "pygments_lexer": "ipython3",
   "version": "3.8.5"
  }
 },
 "nbformat": 4,
 "nbformat_minor": 5
}
